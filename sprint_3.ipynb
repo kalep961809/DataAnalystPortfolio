{
 "cells": [
  {
   "cell_type": "markdown",
   "metadata": {
    "id": "VUC88oWjTJw2"
   },
   "source": [
    "## Introducción <a id='intro'></a>\n",
    "\n",
    "\n",
    "### Objetivo:\n",
    "Prueba la hipótesis:\n",
    "1. La actividad de los usuarios y las usuarias difiere según el día de la semana y dependiendo de la ciudad.\n",
    "\n",
    "\n",
    "### Etapas\n",
    "Los datos del comportamiento del usuario se almacenan en el archivo `/datasets/music_project_en.csv`. No hay ninguna información sobre la calidad de los datos, así que necesitarás examinarlos antes de probar la hipótesis.\n",
    "\n",
    "Primero, evaluarás la calidad de los datos y verás si los problemas son significativos. Entonces, durante el preprocesamiento de datos, tomarás en cuenta los problemas más críticos.\n",
    "\n",
    "Tu proyecto consistirá en tres etapas:\n",
    " 1. Descripción de los datos.\n",
    " 2. Preprocesamiento de datos.\n",
    " 3. Prueba de hipótesis.\n",
    "\n",
    "\n",
    "\n",
    "\n",
    "\n",
    "\n"
   ]
  },
  {
   "cell_type": "markdown",
   "metadata": {
    "id": "hDt6pg-Rw-1U"
   },
   "source": [
    "[Volver a Contenidos](#back)"
   ]
  },
  {
   "cell_type": "markdown",
   "metadata": {
    "id": "Ml1hmfXC_Zcs"
   },
   "source": [
    "## Etapa 1. Descripción de los datos <a id='data_review'></a>\n",
    "\n",
    "Abre los datos y examínalos."
   ]
  },
  {
   "cell_type": "markdown",
   "metadata": {
    "id": "57eAOGIz_Zcs"
   },
   "source": [
    "Necesitarás `pandas`, así que impórtalo."
   ]
  },
  {
   "cell_type": "code",
   "execution_count": 2,
   "metadata": {
    "id": "AXN7PHPN_Zcs"
   },
   "outputs": [],
   "source": [
    "# Importar pandas\n",
    "import pandas as pd"
   ]
  },
  {
   "cell_type": "markdown",
   "metadata": {
    "id": "SG23P8tt_Zcs"
   },
   "source": [
    "Lee el archivo `music_project_en.csv` de la carpeta `/datasets/` y guárdalo en la variable `df`:"
   ]
  },
  {
   "cell_type": "code",
   "execution_count": 3,
   "metadata": {
    "id": "fFVu7vqh_Zct"
   },
   "outputs": [],
   "source": [
    "# Leer el archivo y almacenarlo en df\n",
    "df = pd.read_csv('/datasets/music_project_en.csv')"
   ]
  },
  {
   "cell_type": "markdown",
   "metadata": {
    "id": "rDoOMd3uTqnZ"
   },
   "source": [
    "Muestra las 10 primeras filas de la tabla:"
   ]
  },
  {
   "cell_type": "code",
   "execution_count": 4,
   "metadata": {
    "id": "oWTVX3gW_Zct"
   },
   "outputs": [
    {
     "name": "stdout",
     "output_type": "stream",
     "text": [
      "     userID                        Track            artist   genre  \\\n",
      "0  FFB692EC            Kamigata To Boots  The Mass Missile    rock   \n",
      "1  55204538  Delayed Because of Accident  Andreas Rönnberg    rock   \n",
      "2    20EC38            Funiculì funiculà       Mario Lanza     pop   \n",
      "3  A3DD03C9        Dragons in the Sunset        Fire + Ice    folk   \n",
      "4  E2DC1FAE                  Soul People        Space Echo   dance   \n",
      "5  842029A1                       Chains          Obladaet  rusrap   \n",
      "6  4CB90AA5                         True      Roman Messer   dance   \n",
      "7  F03E1C1F             Feeling This Way   Polina Griffith   dance   \n",
      "8  8FA1D3BE                     L’estate       Julia Dalia  ruspop   \n",
      "9  E772D5C0                    Pessimist               NaN   dance   \n",
      "\n",
      "        City        time        Day  \n",
      "0  Shelbyville  20:28:33  Wednesday  \n",
      "1  Springfield  14:07:09     Friday  \n",
      "2  Shelbyville  20:58:07  Wednesday  \n",
      "3  Shelbyville  08:37:09     Monday  \n",
      "4  Springfield  08:34:34     Monday  \n",
      "5  Shelbyville  13:09:41     Friday  \n",
      "6  Springfield  13:00:07  Wednesday  \n",
      "7  Springfield  20:47:49  Wednesday  \n",
      "8  Springfield  09:17:40     Friday  \n",
      "9  Shelbyville  21:20:49  Wednesday  \n"
     ]
    }
   ],
   "source": [
    "# Obtener las 10 primeras filas de la tabla df\n",
    "print(df.head(10))"
   ]
  },
  {
   "cell_type": "code",
   "execution_count": 6,
   "metadata": {
    "id": "DSf2kIb-_Zct"
   },
   "outputs": [
    {
     "name": "stdout",
     "output_type": "stream",
     "text": [
      "<bound method DataFrame.info of          userID                              Track            artist  \\\n",
      "0      FFB692EC                  Kamigata To Boots  The Mass Missile   \n",
      "1      55204538        Delayed Because of Accident  Andreas Rönnberg   \n",
      "2        20EC38                  Funiculì funiculà       Mario Lanza   \n",
      "3      A3DD03C9              Dragons in the Sunset        Fire + Ice   \n",
      "4      E2DC1FAE                        Soul People        Space Echo   \n",
      "...         ...                                ...               ...   \n",
      "65074  729CBB09                            My Name            McLean   \n",
      "65075  D08D4A55  Maybe One Day (feat. Black Spade)       Blu & Exile   \n",
      "65076  C5E3A0D5                          Jalopiina               NaN   \n",
      "65077  321D0506                      Freight Train     Chas McDevitt   \n",
      "65078  3A64EF84          Tell Me Sweet Little Lies      Monica Lopez   \n",
      "\n",
      "            genre       City        time        Day  \n",
      "0            rock  Shelbyville  20:28:33  Wednesday  \n",
      "1            rock  Springfield  14:07:09     Friday  \n",
      "2             pop  Shelbyville  20:58:07  Wednesday  \n",
      "3            folk  Shelbyville  08:37:09     Monday  \n",
      "4           dance  Springfield  08:34:34     Monday  \n",
      "...           ...          ...       ...        ...  \n",
      "65074         rnb  Springfield  13:32:28  Wednesday  \n",
      "65075         hip  Shelbyville  10:00:00     Monday  \n",
      "65076  industrial  Springfield  20:09:26     Friday  \n",
      "65077        rock  Springfield  21:43:59     Friday  \n",
      "65078     country  Springfield  21:59:46     Friday  \n",
      "\n",
      "[65079 rows x 7 columns]>\n"
     ]
    }
   ],
   "source": [
    "# Obtener la información general sobre nuestros datos\n",
    "print(df.info)"
   ]
  },
  {
   "cell_type": "markdown",
   "metadata": {
    "id": "TaQ2Iwbr_Zct"
   },
   "source": [
    "Estas son nuestras observaciones sobre la tabla. Contiene siete columnas. Almacenan los mismos tipos de datos: `object`.\n",
    "\n",
    "Según la documentación:\n",
    "- `' userID'`: identificador del usuario o la usuaria;\n",
    "- `'Track'`: título de la canción;\n",
    "- `'artist'`: nombre del artista;\n",
    "- `'genre'`: género de la pista;\n",
    "- `'City'`: ciudad del usuario o la usuaria;\n",
    "- `'time'`: la hora exacta en la que se reprodujo la canción;\n",
    "- `'Day'`: día de la semana.\n",
    "\n",
    "Podemos ver tres problemas con el estilo en los encabezados de la tabla:\n",
    "1. Algunos encabezados están en mayúsculas, otros en minúsculas.\n",
    "2. Hay espacios en algunos encabezados.\n",
    "3. `Detecta el tercer problema por tu cuenta y descríbelo aquí`.\n",
    "    Yo usaria snake_case en la primera columna: 'user_id' \n",
    "\n",
    "\n"
   ]
  },
  {
   "cell_type": "markdown",
   "metadata": {
    "id": "MCB6-dXG_Zct"
   },
   "source": [
    "### Escribe observaciones de tu parte. Estas son algunas de las preguntas que pueden ser útiles: <a id='data_review_conclusions'></a>\n",
    "\n",
    "`1.   ¿Qué tipo de datos tenemos a nuestra disposición en las filas? ¿Y cómo podemos entender lo que almacenan las columnas?`\n",
    "Se almacenan datos tipo object o string, tenemos bastante información. Esta bastante facil entender lo que almacenan las columnas, ya que se entiende bien por el nombre. \n",
    "\n",
    "`2.   ¿Hay suficientes datos para proporcionar respuestas a nuestra hipótesis o necesitamos más información?`\n",
    "Considero que si hay suficiente informacion, solo falta agruparlo correctamente y hacer algun par de calculos.\n",
    "\n",
    "`3.   ¿Notaste algún problema en los datos, como valores ausentes, duplicados o tipos de datos incorrectos?`\n",
    "Por el momento no he notado valores ausentes ni duplicados, solo he notado que los indices estan mal escritos. Falta procesar los datos todavia. "
   ]
  },
  {
   "cell_type": "markdown",
   "metadata": {
    "id": "3eL__vcwViOi"
   },
   "source": [
    "[Volver a Contenidos](#back)"
   ]
  },
  {
   "cell_type": "markdown",
   "metadata": {
    "id": "SjYF6Ub9_Zct"
   },
   "source": [
    "## Etapa 2. Preprocesamiento de datos <a id='data_preprocessing'></a>\n",
    "\n",
    "El objetivo aquí es preparar los datos para que sean analizados.\n",
    "El primer paso es resolver cualquier problema con los encabezados. Luego podemos avanzar a los valores ausentes y duplicados. Empecemos.\n",
    "\n",
    "Corrige el formato en los encabezados de la tabla.\n"
   ]
  },
  {
   "cell_type": "markdown",
   "metadata": {
    "id": "dIaKXr29_Zct"
   },
   "source": [
    "### Estilo del encabezado <a id='header_style'></a>\n",
    "Muestra los encabezados de la tabla (los nombres de las columnas):"
   ]
  },
  {
   "cell_type": "code",
   "execution_count": 7,
   "metadata": {
    "id": "oKOTdF_Q_Zct"
   },
   "outputs": [
    {
     "name": "stdout",
     "output_type": "stream",
     "text": [
      "Index(['  userID', 'Track', 'artist', 'genre', '  City  ', 'time', 'Day'], dtype='object')\n"
     ]
    }
   ],
   "source": [
    "# Muestra los nombres de las columnas\n",
    "print(df.columns)\n"
   ]
  },
  {
   "cell_type": "markdown",
   "metadata": {
    "id": "zj5534cv_Zct"
   },
   "source": [
    "Cambia los encabezados de la tabla de acuerdo con las reglas del buen estilo:\n",
    "* Todos los caracteres deben ser minúsculas.\n",
    "* Elimina los espacios.\n",
    "* Si el nombre tiene varias palabras, utiliza snake_case."
   ]
  },
  {
   "cell_type": "code",
   "execution_count": 8,
   "metadata": {
    "id": "6I_RwwMhzM4e"
   },
   "outputs": [
    {
     "name": "stdout",
     "output_type": "stream",
     "text": [
      "Index(['  userid', 'track', 'artist', 'genre', '  city  ', 'time', 'day'], dtype='object')\n"
     ]
    }
   ],
   "source": [
    "# Bucle en los encabezados poniendo todo en minúsculas\n",
    "df.columns = df.columns.str.lower()\n",
    "\n",
    "print(df.columns)"
   ]
  },
  {
   "cell_type": "code",
   "execution_count": 9,
   "metadata": {
    "id": "vVQXbFyJzSYl"
   },
   "outputs": [
    {
     "name": "stdout",
     "output_type": "stream",
     "text": [
      "Index(['userid', 'track', 'artist', 'genre', 'city', 'time', 'day'], dtype='object')\n"
     ]
    }
   ],
   "source": [
    "# Bucle en los encabezados eliminando los espacios\n",
    "df.columns = df.columns.str.strip()\n",
    "\n",
    "print(df.columns)\n",
    "\n"
   ]
  },
  {
   "cell_type": "code",
   "execution_count": 10,
   "metadata": {
    "id": "ISlFqs5y_Zct"
   },
   "outputs": [
    {
     "name": "stdout",
     "output_type": "stream",
     "text": [
      "Index(['user_id', 'track', 'artist', 'genre', 'city', 'time', 'day'], dtype='object')\n"
     ]
    }
   ],
   "source": [
    "# Cambiar el nombre de la columna \"userid\"\n",
    "df = df.rename(columns={'userid': 'user_id'})\n",
    "\n",
    "print(df.columns)\n"
   ]
  },
  {
   "cell_type": "code",
   "execution_count": 11,
   "metadata": {
    "id": "d4NOAmTW_Zct"
   },
   "outputs": [
    {
     "name": "stdout",
     "output_type": "stream",
     "text": [
      "Index(['user_id', 'track', 'artist', 'genre', 'city', 'time', 'day'], dtype='object')\n"
     ]
    }
   ],
   "source": [
    "# Comprobar el resultado: la lista de encabezados\n",
    "print(df.columns)\n"
   ]
  },
  {
   "cell_type": "markdown",
   "metadata": {
    "id": "xYJk6ksJVpOl"
   },
   "source": [
    "[Volver a Contenidos](#back)"
   ]
  },
  {
   "cell_type": "markdown",
   "metadata": {
    "id": "5ISfbcfY_Zct"
   },
   "source": [
    "### Valores ausentes <a id='missing_values'></a>"
   ]
  },
  {
   "cell_type": "code",
   "execution_count": 12,
   "metadata": {
    "id": "RskX29qr_Zct"
   },
   "outputs": [
    {
     "name": "stdout",
     "output_type": "stream",
     "text": [
      "user_id       0\n",
      "track      1343\n",
      "artist     7567\n",
      "genre      1198\n",
      "city          0\n",
      "time          0\n",
      "day           0\n",
      "dtype: int64\n"
     ]
    }
   ],
   "source": [
    "# Calcular el número de valores ausentes\n",
    "print(df.isna().sum())"
   ]
  },
  {
   "cell_type": "code",
   "execution_count": 13,
   "metadata": {
    "id": "KplB5qWs_Zct"
   },
   "outputs": [],
   "source": [
    "# Bucle en los encabezados reemplazando los valores ausentes con 'unknown'\n",
    "columns_to_replace = ['track','artist','genre']\n",
    "\n",
    "for name in columns_to_replace:\n",
    "    df[name].fillna('unknown', inplace=True)\n"
   ]
  },
  {
   "cell_type": "code",
   "execution_count": 14,
   "metadata": {
    "id": "Tq4nYRX4_Zct"
   },
   "outputs": [
    {
     "name": "stdout",
     "output_type": "stream",
     "text": [
      "user_id    0\n",
      "track      0\n",
      "artist     0\n",
      "genre      0\n",
      "city       0\n",
      "time       0\n",
      "day        0\n",
      "dtype: int64\n"
     ]
    }
   ],
   "source": [
    "# Contar valores ausentes\n",
    "print(df.isna().sum())\n"
   ]
  },
  {
   "cell_type": "markdown",
   "metadata": {
    "id": "74ZIBmq9VrsK"
   },
   "source": [
    "[Volver a Contenidos](#back)"
   ]
  },
  {
   "cell_type": "markdown",
   "metadata": {
    "id": "BWKRtBJ3_Zct"
   },
   "source": [
    "### Duplicados <a id='duplicates'></a>"
   ]
  },
  {
   "cell_type": "code",
   "execution_count": 15,
   "metadata": {
    "id": "36eES_S0_Zct"
   },
   "outputs": [
    {
     "name": "stdout",
     "output_type": "stream",
     "text": [
      "3826\n"
     ]
    }
   ],
   "source": [
    "# Contar duplicados explícitos\n",
    "print(df.duplicated().sum())"
   ]
  },
  {
   "cell_type": "code",
   "execution_count": 16,
   "metadata": {
    "id": "exFHq6tt_Zct"
   },
   "outputs": [],
   "source": [
    "# Eliminar duplicados explícitos\n",
    "df.drop_duplicates(inplace=True)"
   ]
  },
  {
   "cell_type": "code",
   "execution_count": 17,
   "metadata": {
    "id": "-8PuNWQ0_Zct"
   },
   "outputs": [
    {
     "name": "stdout",
     "output_type": "stream",
     "text": [
      "0\n"
     ]
    }
   ],
   "source": [
    "# Comprobar de nuevo si hay duplicados\n",
    "print(df.duplicated().sum())\n",
    "\n"
   ]
  },
  {
   "cell_type": "code",
   "execution_count": 18,
   "metadata": {
    "id": "JIUcqzZN_Zct"
   },
   "outputs": [
    {
     "name": "stdout",
     "output_type": "stream",
     "text": [
      "['rock' 'pop' 'folk' 'dance' 'rusrap' 'ruspop' 'world' 'electronic'\n",
      " 'unknown' 'alternative' 'children' 'rnb' 'hip' 'jazz' 'postrock' 'latin'\n",
      " 'classical' 'metal' 'reggae' 'triphop' 'blues' 'instrumental' 'rusrock'\n",
      " 'dnb' 'türk' 'post' 'country' 'psychedelic' 'conjazz' 'indie'\n",
      " 'posthardcore' 'local' 'avantgarde' 'punk' 'videogame' 'techno' 'house'\n",
      " 'christmas' 'melodic' 'caucasian' 'reggaeton' 'soundtrack' 'singer' 'ska'\n",
      " 'salsa' 'ambient' 'film' 'western' 'rap' 'beats' \"hard'n'heavy\"\n",
      " 'progmetal' 'minimal' 'tropical' 'contemporary' 'new' 'soul' 'holiday'\n",
      " 'german' 'jpop' 'spiritual' 'urban' 'gospel' 'nujazz' 'folkmetal'\n",
      " 'trance' 'miscellaneous' 'anime' 'hardcore' 'progressive' 'korean'\n",
      " 'numetal' 'vocal' 'estrada' 'tango' 'loungeelectronic' 'classicmetal'\n",
      " 'dubstep' 'club' 'deep' 'southern' 'black' 'folkrock' 'fitness' 'french'\n",
      " 'disco' 'religious' 'hiphop' 'drum' 'extrememetal' 'türkçe'\n",
      " 'experimental' 'easy' 'metalcore' 'modern' 'argentinetango' 'old' 'swing'\n",
      " 'breaks' 'eurofolk' 'stonerrock' 'industrial' 'funk' 'middle' 'variété'\n",
      " 'other' 'adult' 'christian' 'thrash' 'gothic' 'international' 'muslim'\n",
      " 'relax' 'schlager' 'caribbean' 'nu' 'breakbeat' 'comedy' 'chill' 'newage'\n",
      " 'specialty' 'uzbek' 'k-pop' 'balkan' 'chinese' 'meditative' 'dub' 'power'\n",
      " 'death' 'grime' 'arabesk' 'romance' 'flamenco' 'leftfield' 'european'\n",
      " 'tech' 'newwave' 'dancehall' 'mpb' 'piano' 'top' 'bigroom' 'opera'\n",
      " 'celtic' 'tradjazz' 'acoustic' 'epicmetal' 'hip-hop' 'historisch'\n",
      " 'downbeat' 'downtempo' 'africa' 'audiobook' 'jewish' 'sängerportrait'\n",
      " 'deutschrock' 'eastern' 'action' 'future' 'electropop' 'folklore'\n",
      " 'bollywood' 'marschmusik' 'rnr' 'karaoke' 'indian' 'rancheras'\n",
      " 'afrikaans' 'rhythm' 'sound' 'deutschspr' 'trip' 'lovers' 'choral'\n",
      " 'dancepop' 'retro' 'smooth' 'mexican' 'brazilian' 'ïîï' 'mood' 'surf'\n",
      " 'gangsta' 'inspirational' 'idm' 'ethnic' 'bluegrass' 'broadway'\n",
      " 'animated' 'americana' 'karadeniz' 'rockabilly' 'colombian' 'self' 'hop'\n",
      " 'sertanejo' 'japanese' 'canzone' 'lounge' 'sport' 'ragga' 'traditional'\n",
      " 'gitarre' 'frankreich' 'emo' 'laiko' 'cantopop' 'glitch' 'documentary'\n",
      " 'oceania' 'popeurodance' 'dark' 'vi' 'grunge' 'hardstyle' 'samba'\n",
      " 'garage' 'art' 'folktronica' 'entehno' 'mediterranean' 'chamber' 'cuban'\n",
      " 'taraftar' 'gypsy' 'hardtechno' 'shoegazing' 'bossa' 'latino' 'worldbeat'\n",
      " 'malaysian' 'baile' 'ghazal' 'arabic' 'popelectronic' 'acid' 'kayokyoku'\n",
      " 'neoklassik' 'tribal' 'tanzorchester' 'native' 'independent' 'cantautori'\n",
      " 'handsup' 'punjabi' 'synthpop' 'rave' 'französisch' 'quebecois' 'speech'\n",
      " 'soulful' 'jam' 'ram' 'horror' 'orchestral' 'neue' 'roots' 'slow'\n",
      " 'jungle' 'indipop' 'axé' 'fado' 'showtunes' 'arena' 'irish' 'mandopop'\n",
      " 'forró' 'dirty' 'regional']\n"
     ]
    }
   ],
   "source": [
    "# Inspeccionar los nombres de géneros únicos\n",
    "\n",
    "print(df['genre'].unique())\n"
   ]
  },
  {
   "cell_type": "code",
   "execution_count": 19,
   "metadata": {
    "id": "ErNDkmns_Zct"
   },
   "outputs": [],
   "source": [
    "# Función para reemplazar duplicados implícitos\n",
    "\n",
    "def replace_wrong_genres(df,column,wrong_genre,correct_genre):\n",
    "        for value in wrong_genre:\n",
    "            df[column]=df[column].replace(wrong_genre,correct_genre)\n",
    "        return df\n"
   ]
  },
  {
   "cell_type": "code",
   "execution_count": 20,
   "metadata": {
    "id": "YN5i2hpmSo09"
   },
   "outputs": [],
   "source": [
    "# Eliminar duplicados implícitos\n",
    "wrong_genre = ['hip','hop','hip-hop']\n",
    "correct_genre = 'hiphop'\n",
    "df = replace_wrong_genres(df,'genre',wrong_genre,correct_genre)\n"
   ]
  },
  {
   "cell_type": "code",
   "execution_count": 21,
   "metadata": {
    "id": "wvixALnFG15m"
   },
   "outputs": [
    {
     "name": "stdout",
     "output_type": "stream",
     "text": [
      "['rock' 'pop' 'folk' 'dance' 'rusrap' 'ruspop' 'world' 'electronic'\n",
      " 'unknown' 'alternative' 'children' 'rnb' 'hiphop' 'jazz' 'postrock'\n",
      " 'latin' 'classical' 'metal' 'reggae' 'triphop' 'blues' 'instrumental'\n",
      " 'rusrock' 'dnb' 'türk' 'post' 'country' 'psychedelic' 'conjazz' 'indie'\n",
      " 'posthardcore' 'local' 'avantgarde' 'punk' 'videogame' 'techno' 'house'\n",
      " 'christmas' 'melodic' 'caucasian' 'reggaeton' 'soundtrack' 'singer' 'ska'\n",
      " 'salsa' 'ambient' 'film' 'western' 'rap' 'beats' \"hard'n'heavy\"\n",
      " 'progmetal' 'minimal' 'tropical' 'contemporary' 'new' 'soul' 'holiday'\n",
      " 'german' 'jpop' 'spiritual' 'urban' 'gospel' 'nujazz' 'folkmetal'\n",
      " 'trance' 'miscellaneous' 'anime' 'hardcore' 'progressive' 'korean'\n",
      " 'numetal' 'vocal' 'estrada' 'tango' 'loungeelectronic' 'classicmetal'\n",
      " 'dubstep' 'club' 'deep' 'southern' 'black' 'folkrock' 'fitness' 'french'\n",
      " 'disco' 'religious' 'drum' 'extrememetal' 'türkçe' 'experimental' 'easy'\n",
      " 'metalcore' 'modern' 'argentinetango' 'old' 'swing' 'breaks' 'eurofolk'\n",
      " 'stonerrock' 'industrial' 'funk' 'middle' 'variété' 'other' 'adult'\n",
      " 'christian' 'thrash' 'gothic' 'international' 'muslim' 'relax' 'schlager'\n",
      " 'caribbean' 'nu' 'breakbeat' 'comedy' 'chill' 'newage' 'specialty'\n",
      " 'uzbek' 'k-pop' 'balkan' 'chinese' 'meditative' 'dub' 'power' 'death'\n",
      " 'grime' 'arabesk' 'romance' 'flamenco' 'leftfield' 'european' 'tech'\n",
      " 'newwave' 'dancehall' 'mpb' 'piano' 'top' 'bigroom' 'opera' 'celtic'\n",
      " 'tradjazz' 'acoustic' 'epicmetal' 'historisch' 'downbeat' 'downtempo'\n",
      " 'africa' 'audiobook' 'jewish' 'sängerportrait' 'deutschrock' 'eastern'\n",
      " 'action' 'future' 'electropop' 'folklore' 'bollywood' 'marschmusik' 'rnr'\n",
      " 'karaoke' 'indian' 'rancheras' 'afrikaans' 'rhythm' 'sound' 'deutschspr'\n",
      " 'trip' 'lovers' 'choral' 'dancepop' 'retro' 'smooth' 'mexican'\n",
      " 'brazilian' 'ïîï' 'mood' 'surf' 'gangsta' 'inspirational' 'idm' 'ethnic'\n",
      " 'bluegrass' 'broadway' 'animated' 'americana' 'karadeniz' 'rockabilly'\n",
      " 'colombian' 'self' 'sertanejo' 'japanese' 'canzone' 'lounge' 'sport'\n",
      " 'ragga' 'traditional' 'gitarre' 'frankreich' 'emo' 'laiko' 'cantopop'\n",
      " 'glitch' 'documentary' 'oceania' 'popeurodance' 'dark' 'vi' 'grunge'\n",
      " 'hardstyle' 'samba' 'garage' 'art' 'folktronica' 'entehno'\n",
      " 'mediterranean' 'chamber' 'cuban' 'taraftar' 'gypsy' 'hardtechno'\n",
      " 'shoegazing' 'bossa' 'latino' 'worldbeat' 'malaysian' 'baile' 'ghazal'\n",
      " 'arabic' 'popelectronic' 'acid' 'kayokyoku' 'neoklassik' 'tribal'\n",
      " 'tanzorchester' 'native' 'independent' 'cantautori' 'handsup' 'punjabi'\n",
      " 'synthpop' 'rave' 'französisch' 'quebecois' 'speech' 'soulful' 'jam'\n",
      " 'ram' 'horror' 'orchestral' 'neue' 'roots' 'slow' 'jungle' 'indipop'\n",
      " 'axé' 'fado' 'showtunes' 'arena' 'irish' 'mandopop' 'forró' 'dirty'\n",
      " 'regional']\n"
     ]
    }
   ],
   "source": [
    "# Comprobación de duplicados implícitos\n",
    "print(df['genre'].unique())"
   ]
  },
  {
   "cell_type": "markdown",
   "metadata": {
    "id": "ALgNbvF3VtPA"
   },
   "source": [
    "[Volver a Contenidos](#back)"
   ]
  },
  {
   "cell_type": "markdown",
   "metadata": {
    "id": "jz6a9-7HQUDd"
   },
   "source": [
    "### Tus observaciones <a id='data_preprocessing_conclusions'></a>\n",
    "\n",
    "He notado que hay una gran cantidad de generos musicales diferentes, incluso hay muchos generos que nunca habia escuchado antes. Probablemente sigan habiendo valores con algunos errores, ya que identifico este en la lista: ïîï. Felizmente la mayoria ya fue solucionado. "
   ]
  },
  {
   "cell_type": "markdown",
   "metadata": {
    "id": "eK1es74rVujj"
   },
   "source": [
    "[Volver a Contenidos](#back)"
   ]
  },
  {
   "cell_type": "markdown",
   "metadata": {
    "id": "WttZHXH0SqKk"
   },
   "source": [
    "## Etapa 3. Prueba de hipótesis <a id='hypothesis'></a>"
   ]
  },
  {
   "cell_type": "markdown",
   "metadata": {
    "id": "Im936VVi_Zcu"
   },
   "source": [
    "### Hipótesis: comparar el comportamiento del usuario o la usuaria en las dos ciudades <a id='activity'></a>"
   ]
  },
  {
   "cell_type": "code",
   "execution_count": 22,
   "metadata": {
    "id": "0_Qs96oh_Zcu"
   },
   "outputs": [
    {
     "name": "stdout",
     "output_type": "stream",
     "text": [
      "city\n",
      "Springfield    42741\n",
      "Shelbyville    18512\n",
      "Name: track, dtype: int64\n"
     ]
    }
   ],
   "source": [
    "# Contar las canciones reproducidas en cada ciudad\n",
    "songs_per_city = df.groupby(by='city')['track'].count()\n",
    "print(songs_per_city.sort_values(ascending=False))\n"
   ]
  },
  {
   "cell_type": "markdown",
   "metadata": {
    "id": "t_Qx-3NewAnK"
   },
   "source": [
    "Se puede observar que la ciudad Springfield tiene una mayor cantidad de canciones reproducidad que Shelbyville. La diferencia es significativa, siendo Springfield un 69.7% del total."
   ]
  },
  {
   "cell_type": "code",
   "execution_count": 23,
   "metadata": {
    "id": "uZMKjiJz_Zcu"
   },
   "outputs": [
    {
     "name": "stdout",
     "output_type": "stream",
     "text": [
      "city         day      \n",
      "Springfield  Friday       15945\n",
      "             Monday       15740\n",
      "             Wednesday    11056\n",
      "Shelbyville  Wednesday     7003\n",
      "             Friday        5895\n",
      "             Monday        5614\n",
      "Name: track, dtype: int64\n"
     ]
    }
   ],
   "source": [
    "# Calcular las canciones reproducidas en cada uno de los tres días\n",
    "songs_city_day= df.groupby(['city','day'])['track'].count()\n",
    "print(songs_city_day.sort_values(ascending=False))\n"
   ]
  },
  {
   "cell_type": "markdown",
   "metadata": {
    "id": "cC2tNrlL_Zcu"
   },
   "source": [
    "Puedo observar que el dia con más reproducciones en Springfiled es viernes, y sorprendentemenete para Shelbyville es el miercoles. No encuentro que se siga algun patron, pero si se puede resaltar que la diferencia entre el día con más reproducciones para ambas ciudades es de un poco más del doble. "
   ]
  },
  {
   "cell_type": "code",
   "execution_count": 25,
   "metadata": {
    "id": "Nz3GdQB1_Zcu"
   },
   "outputs": [],
   "source": [
    "# Declara la función number_tracks() con dos parámetros: day= y city=.\n",
    "\n",
    "def number_tracks(day,city):\n",
    "    filter_day= df[df['day'] == day] \n",
    "    filter_city= filter_day[filter_day['city'] == city]\n",
    "    count_user= filter_city['user_id'].count( )\n",
    "    return count_user\n",
    "\n",
    "\n",
    "    # Almacena las filas del DataFrame donde el valor en la columna 'day' es igual al parámetro day=\n",
    "\n",
    "    # Filtra las filas donde el valor en la columna 'city' es igual al parámetro city=\n",
    "\n",
    "    # Extrae la columna 'user_id' de la tabla filtrada y aplica el método count()\n",
    "\n",
    "    # Devolve el número de valores de la columna 'user_id'"
   ]
  },
  {
   "cell_type": "code",
   "execution_count": 29,
   "metadata": {
    "id": "rJcRATNQ_Zcu"
   },
   "outputs": [
    {
     "name": "stdout",
     "output_type": "stream",
     "text": [
      "15740\n"
     ]
    }
   ],
   "source": [
    "# El número de canciones reproducidas en Springfield el lunes\n",
    "spring_mon = number_tracks('Monday','Springfield')\n",
    "print(spring_mon)"
   ]
  },
  {
   "cell_type": "code",
   "execution_count": 30,
   "metadata": {
    "id": "hq_ncZ5T_Zcu"
   },
   "outputs": [
    {
     "name": "stdout",
     "output_type": "stream",
     "text": [
      "5614\n"
     ]
    }
   ],
   "source": [
    "# El número de canciones reproducidas en Shelbyville el lunes\n",
    "shel_mon = number_tracks('Monday','Shelbyville')\n",
    "print(shel_mon)"
   ]
  },
  {
   "cell_type": "code",
   "execution_count": 31,
   "metadata": {
    "id": "_NTy2VPU_Zcu"
   },
   "outputs": [
    {
     "name": "stdout",
     "output_type": "stream",
     "text": [
      "11056\n"
     ]
    }
   ],
   "source": [
    "# El número de canciones reproducidas en Springfield el miércoles\n",
    "spring_wed = number_tracks('Wednesday','Springfield')\n",
    "print(spring_wed)"
   ]
  },
  {
   "cell_type": "code",
   "execution_count": 32,
   "metadata": {
    "id": "j2y3TAwo_Zcu"
   },
   "outputs": [
    {
     "name": "stdout",
     "output_type": "stream",
     "text": [
      "7003\n"
     ]
    }
   ],
   "source": [
    "# El número de canciones reproducidas en Shelbyville el miércoles\n",
    "shel_wed = number_tracks('Wednesday','Shelbyville')\n",
    "print(shel_wed)"
   ]
  },
  {
   "cell_type": "code",
   "execution_count": 33,
   "metadata": {
    "id": "vYDw5u_K_Zcu"
   },
   "outputs": [
    {
     "name": "stdout",
     "output_type": "stream",
     "text": [
      "15945\n"
     ]
    }
   ],
   "source": [
    "# El número de canciones reproducidas en Springfield el viernes\n",
    "spring_fri = number_tracks('Friday','Springfield')\n",
    "print(spring_fri)"
   ]
  },
  {
   "cell_type": "code",
   "execution_count": 34,
   "metadata": {
    "id": "8_yzFtW3_Zcu"
   },
   "outputs": [
    {
     "name": "stdout",
     "output_type": "stream",
     "text": [
      "5895\n"
     ]
    }
   ],
   "source": [
    "# El número de canciones reproducidas en Shelbyville el viernes\n",
    "shel_fri = number_tracks('Friday','Shelbyville')\n",
    "print(shel_fri)"
   ]
  },
  {
   "cell_type": "markdown",
   "metadata": {
    "id": "-EgPIHYu_Zcu"
   },
   "source": [
    "**Conclusiones**\n",
    "\n",
    "La hipotesis es correcta. La actividad de los usuarios sí difiere segun ciudad y dia de semana. "
   ]
  },
  {
   "cell_type": "markdown",
   "metadata": {
    "id": "p7nFQajCVw5B"
   },
   "source": [
    "[Volver a Contenidos](#back)"
   ]
  },
  {
   "cell_type": "markdown",
   "metadata": {
    "id": "ykKQ0N65_Zcv"
   },
   "source": [
    "# Conclusiones <a id='end'></a>"
   ]
  },
  {
   "cell_type": "markdown",
   "metadata": {
    "id": "tjUwbHb3_Zcv"
   },
   "source": [
    "Puedo concluir que la actividad de los usuarios si difiere segun el día de semana y ciudad; sin embargo, no veo que haya algun patron especifico que se siga. Considero que es necesario hacer una investigacion más profunda para verificar si es que hay otro factor que influya directamente en la cantidad de reproducciones. "
   ]
  },
  {
   "cell_type": "markdown",
   "metadata": {
    "id": "Ju4AHDSgV1FE"
   },
   "source": [
    "[Volver a Contenidos](#back)"
   ]
  }
 ],
 "metadata": {
  "ExecuteTimeLog": [
   {
    "duration": 503,
    "start_time": "2024-06-18T22:33:32.548Z"
   },
   {
    "duration": 4,
    "start_time": "2024-06-18T22:33:35.199Z"
   },
   {
    "duration": 8,
    "start_time": "2024-06-18T22:35:09.392Z"
   },
   {
    "duration": 15,
    "start_time": "2024-06-18T22:35:40.163Z"
   },
   {
    "duration": 6,
    "start_time": "2024-06-18T22:35:49.385Z"
   },
   {
    "duration": 6,
    "start_time": "2024-06-18T22:36:00.848Z"
   },
   {
    "duration": 402,
    "start_time": "2024-06-18T22:36:11.789Z"
   },
   {
    "duration": 1097,
    "start_time": "2024-06-18T22:38:46.524Z"
   },
   {
    "duration": 154,
    "start_time": "2024-06-18T22:39:16.903Z"
   },
   {
    "duration": 225,
    "start_time": "2024-06-18T22:40:15.462Z"
   },
   {
    "duration": 204,
    "start_time": "2024-06-18T22:40:19.397Z"
   },
   {
    "duration": 12,
    "start_time": "2024-06-18T22:40:38.830Z"
   },
   {
    "duration": 11,
    "start_time": "2024-06-18T23:01:41.291Z"
   },
   {
    "duration": 411,
    "start_time": "2024-06-19T02:54:54.103Z"
   },
   {
    "duration": 414,
    "start_time": "2024-06-19T02:55:20.088Z"
   },
   {
    "duration": 194,
    "start_time": "2024-06-19T02:55:22.688Z"
   },
   {
    "duration": 17,
    "start_time": "2024-06-19T02:55:25.518Z"
   },
   {
    "duration": 11,
    "start_time": "2024-06-19T02:55:29.567Z"
   },
   {
    "duration": 4,
    "start_time": "2024-06-19T02:55:35.038Z"
   },
   {
    "duration": 6,
    "start_time": "2024-06-19T03:06:38.650Z"
   },
   {
    "duration": 8,
    "start_time": "2024-06-19T03:21:10.873Z"
   },
   {
    "duration": 60,
    "start_time": "2024-06-19T03:21:21.830Z"
   },
   {
    "duration": 6,
    "start_time": "2024-06-19T03:21:53.012Z"
   },
   {
    "duration": 6,
    "start_time": "2024-06-19T03:24:21.362Z"
   },
   {
    "duration": 5,
    "start_time": "2024-06-19T03:24:29.490Z"
   },
   {
    "duration": 3,
    "start_time": "2024-06-19T03:25:14.523Z"
   },
   {
    "duration": 170,
    "start_time": "2024-06-19T03:25:17.299Z"
   },
   {
    "duration": 9,
    "start_time": "2024-06-19T03:25:19.976Z"
   },
   {
    "duration": 11,
    "start_time": "2024-06-19T03:25:23.595Z"
   },
   {
    "duration": 6,
    "start_time": "2024-06-19T03:25:33.779Z"
   },
   {
    "duration": 26,
    "start_time": "2024-06-19T03:28:05.269Z"
   },
   {
    "duration": 32,
    "start_time": "2024-06-19T03:29:03.778Z"
   },
   {
    "duration": 6,
    "start_time": "2024-06-19T03:30:13.580Z"
   },
   {
    "duration": 4,
    "start_time": "2024-06-19T03:31:09.354Z"
   },
   {
    "duration": 158,
    "start_time": "2024-06-19T03:31:11.354Z"
   },
   {
    "duration": 9,
    "start_time": "2024-06-19T03:31:13.950Z"
   },
   {
    "duration": 14,
    "start_time": "2024-06-19T03:31:17.757Z"
   },
   {
    "duration": 5,
    "start_time": "2024-06-19T03:31:23.370Z"
   },
   {
    "duration": 6,
    "start_time": "2024-06-19T03:35:53.605Z"
   },
   {
    "duration": 5,
    "start_time": "2024-06-19T03:42:32.553Z"
   },
   {
    "duration": 3,
    "start_time": "2024-06-19T03:44:02.154Z"
   },
   {
    "duration": 158,
    "start_time": "2024-06-19T03:44:05.048Z"
   },
   {
    "duration": 9,
    "start_time": "2024-06-19T03:44:08.099Z"
   },
   {
    "duration": 10,
    "start_time": "2024-06-19T03:44:11.462Z"
   },
   {
    "duration": 5,
    "start_time": "2024-06-19T03:44:20.181Z"
   },
   {
    "duration": 6,
    "start_time": "2024-06-19T03:44:24.874Z"
   },
   {
    "duration": 23,
    "start_time": "2024-06-19T03:47:23.118Z"
   },
   {
    "duration": 22,
    "start_time": "2024-06-19T03:48:06.203Z"
   },
   {
    "duration": 4,
    "start_time": "2024-06-19T03:48:30.168Z"
   },
   {
    "duration": 176,
    "start_time": "2024-06-19T03:48:30.176Z"
   },
   {
    "duration": 10,
    "start_time": "2024-06-19T03:48:30.355Z"
   },
   {
    "duration": 10,
    "start_time": "2024-06-19T03:48:30.369Z"
   },
   {
    "duration": 5,
    "start_time": "2024-06-19T03:48:30.383Z"
   },
   {
    "duration": 54,
    "start_time": "2024-06-19T03:48:30.390Z"
   },
   {
    "duration": 0,
    "start_time": "2024-06-19T03:48:30.449Z"
   },
   {
    "duration": 0,
    "start_time": "2024-06-19T03:48:30.450Z"
   },
   {
    "duration": 0,
    "start_time": "2024-06-19T03:48:30.453Z"
   },
   {
    "duration": 0,
    "start_time": "2024-06-19T03:48:30.455Z"
   },
   {
    "duration": 0,
    "start_time": "2024-06-19T03:48:30.458Z"
   },
   {
    "duration": 0,
    "start_time": "2024-06-19T03:48:30.461Z"
   },
   {
    "duration": 0,
    "start_time": "2024-06-19T03:48:30.463Z"
   },
   {
    "duration": 0,
    "start_time": "2024-06-19T03:48:30.466Z"
   },
   {
    "duration": 0,
    "start_time": "2024-06-19T03:48:30.469Z"
   },
   {
    "duration": 0,
    "start_time": "2024-06-19T03:48:30.470Z"
   },
   {
    "duration": 0,
    "start_time": "2024-06-19T03:48:30.471Z"
   },
   {
    "duration": 0,
    "start_time": "2024-06-19T03:48:30.523Z"
   },
   {
    "duration": 0,
    "start_time": "2024-06-19T03:48:30.528Z"
   },
   {
    "duration": 0,
    "start_time": "2024-06-19T03:48:30.529Z"
   },
   {
    "duration": 0,
    "start_time": "2024-06-19T03:48:30.532Z"
   },
   {
    "duration": 0,
    "start_time": "2024-06-19T03:48:30.534Z"
   },
   {
    "duration": 0,
    "start_time": "2024-06-19T03:48:30.537Z"
   },
   {
    "duration": 0,
    "start_time": "2024-06-19T03:48:30.539Z"
   },
   {
    "duration": 0,
    "start_time": "2024-06-19T03:48:30.541Z"
   },
   {
    "duration": 0,
    "start_time": "2024-06-19T03:48:30.544Z"
   },
   {
    "duration": 0,
    "start_time": "2024-06-19T03:48:30.546Z"
   },
   {
    "duration": 0,
    "start_time": "2024-06-19T03:48:30.549Z"
   },
   {
    "duration": 10,
    "start_time": "2024-06-19T03:49:28.070Z"
   },
   {
    "duration": 5,
    "start_time": "2024-06-19T03:50:20.843Z"
   },
   {
    "duration": 5,
    "start_time": "2024-06-19T03:52:05.156Z"
   },
   {
    "duration": 3,
    "start_time": "2024-06-19T03:54:38.756Z"
   },
   {
    "duration": 155,
    "start_time": "2024-06-19T03:54:42.777Z"
   },
   {
    "duration": 9,
    "start_time": "2024-06-19T03:54:46.290Z"
   },
   {
    "duration": 10,
    "start_time": "2024-06-19T03:54:50.341Z"
   },
   {
    "duration": 5,
    "start_time": "2024-06-19T03:54:58.283Z"
   },
   {
    "duration": 816,
    "start_time": "2024-06-19T03:56:37.747Z"
   },
   {
    "duration": 695,
    "start_time": "2024-06-19T04:01:05.635Z"
   },
   {
    "duration": 5,
    "start_time": "2024-06-19T04:02:45.344Z"
   },
   {
    "duration": 9,
    "start_time": "2024-06-19T04:03:03.342Z"
   },
   {
    "duration": 470,
    "start_time": "2024-06-19T16:04:09.041Z"
   },
   {
    "duration": 195,
    "start_time": "2024-06-19T16:04:10.963Z"
   },
   {
    "duration": 11,
    "start_time": "2024-06-19T16:04:13.182Z"
   },
   {
    "duration": 12,
    "start_time": "2024-06-19T16:04:18.425Z"
   },
   {
    "duration": 4,
    "start_time": "2024-06-19T16:04:26.985Z"
   },
   {
    "duration": 353,
    "start_time": "2024-06-19T16:06:58.828Z"
   },
   {
    "duration": 6,
    "start_time": "2024-06-19T16:07:49.954Z"
   },
   {
    "duration": 6,
    "start_time": "2024-06-19T16:10:02.115Z"
   },
   {
    "duration": 12,
    "start_time": "2024-06-19T16:17:14.899Z"
   },
   {
    "duration": 4,
    "start_time": "2024-06-19T16:20:22.813Z"
   },
   {
    "duration": 37,
    "start_time": "2024-06-19T16:21:32.153Z"
   },
   {
    "duration": 16,
    "start_time": "2024-06-19T16:26:30.111Z"
   },
   {
    "duration": 25,
    "start_time": "2024-06-19T16:27:01.558Z"
   },
   {
    "duration": 83,
    "start_time": "2024-06-19T16:30:23.755Z"
   },
   {
    "duration": 83,
    "start_time": "2024-06-19T16:31:40.716Z"
   },
   {
    "duration": 90,
    "start_time": "2024-06-19T16:32:01.358Z"
   },
   {
    "duration": 9,
    "start_time": "2024-06-19T16:32:58.117Z"
   },
   {
    "duration": 7,
    "start_time": "2024-06-19T16:38:51.558Z"
   },
   {
    "duration": 7,
    "start_time": "2024-06-19T16:40:02.534Z"
   },
   {
    "duration": 5,
    "start_time": "2024-06-19T16:40:09.639Z"
   },
   {
    "duration": 46,
    "start_time": "2024-06-19T16:48:33.785Z"
   },
   {
    "duration": 839,
    "start_time": "2024-06-19T16:49:21.058Z"
   },
   {
    "duration": 35,
    "start_time": "2024-06-19T16:50:43.463Z"
   },
   {
    "duration": 279,
    "start_time": "2024-06-19T16:51:06.714Z"
   },
   {
    "duration": 33,
    "start_time": "2024-06-19T16:51:20.742Z"
   },
   {
    "duration": 22,
    "start_time": "2024-06-19T16:54:37.634Z"
   },
   {
    "duration": 23,
    "start_time": "2024-06-19T16:54:45.028Z"
   },
   {
    "duration": 85,
    "start_time": "2024-06-19T16:54:51.938Z"
   },
   {
    "duration": 33,
    "start_time": "2024-06-19T16:54:57.148Z"
   },
   {
    "duration": 33,
    "start_time": "2024-06-19T16:55:04.952Z"
   },
   {
    "duration": 87,
    "start_time": "2024-06-19T16:55:15.021Z"
   },
   {
    "duration": 85,
    "start_time": "2024-06-19T16:58:16.750Z"
   },
   {
    "duration": 169,
    "start_time": "2024-06-19T17:03:09.631Z"
   },
   {
    "duration": 29,
    "start_time": "2024-06-19T17:04:45.859Z"
   },
   {
    "duration": 10,
    "start_time": "2024-06-19T17:04:58.191Z"
   },
   {
    "duration": 20,
    "start_time": "2024-06-19T17:20:28.095Z"
   },
   {
    "duration": 27,
    "start_time": "2024-06-19T17:21:07.532Z"
   },
   {
    "duration": 37,
    "start_time": "2024-06-19T17:22:14.291Z"
   },
   {
    "duration": 15,
    "start_time": "2024-06-19T17:22:25.207Z"
   },
   {
    "duration": 315,
    "start_time": "2024-06-19T17:43:47.196Z"
   },
   {
    "duration": 34,
    "start_time": "2024-06-19T17:44:48.848Z"
   },
   {
    "duration": 24,
    "start_time": "2024-06-19T17:45:16.858Z"
   },
   {
    "duration": 34,
    "start_time": "2024-06-19T17:46:15.217Z"
   },
   {
    "duration": 23,
    "start_time": "2024-06-19T17:46:32.226Z"
   },
   {
    "duration": 439,
    "start_time": "2024-06-19T22:46:44.963Z"
   },
   {
    "duration": 202,
    "start_time": "2024-06-19T22:46:48.110Z"
   },
   {
    "duration": 11,
    "start_time": "2024-06-19T22:46:50.396Z"
   },
   {
    "duration": 12,
    "start_time": "2024-06-19T22:46:54.056Z"
   },
   {
    "duration": 5,
    "start_time": "2024-06-19T22:46:59.766Z"
   },
   {
    "duration": 6,
    "start_time": "2024-06-19T22:47:03.874Z"
   },
   {
    "duration": 9,
    "start_time": "2024-06-19T22:47:08.325Z"
   },
   {
    "duration": 12,
    "start_time": "2024-06-19T22:47:11.279Z"
   },
   {
    "duration": 4,
    "start_time": "2024-06-19T22:47:14.029Z"
   },
   {
    "duration": 45,
    "start_time": "2024-06-19T22:47:16.993Z"
   },
   {
    "duration": 20,
    "start_time": "2024-06-19T22:47:21.025Z"
   },
   {
    "duration": 24,
    "start_time": "2024-06-19T22:47:23.543Z"
   },
   {
    "duration": 76,
    "start_time": "2024-06-19T22:47:26.947Z"
   },
   {
    "duration": 77,
    "start_time": "2024-06-19T22:47:29.797Z"
   },
   {
    "duration": 10,
    "start_time": "2024-06-19T22:47:32.593Z"
   },
   {
    "duration": 7,
    "start_time": "2024-06-19T22:47:39.615Z"
   },
   {
    "duration": 40,
    "start_time": "2024-06-19T22:47:42.845Z"
   },
   {
    "duration": 13,
    "start_time": "2024-06-19T22:47:46.663Z"
   },
   {
    "duration": 25,
    "start_time": "2024-06-19T22:47:56.342Z"
   },
   {
    "duration": 27,
    "start_time": "2024-06-19T22:48:07.164Z"
   },
   {
    "duration": 10,
    "start_time": "2024-06-20T15:04:27.993Z"
   },
   {
    "duration": 435,
    "start_time": "2024-06-20T15:09:57.065Z"
   },
   {
    "duration": 200,
    "start_time": "2024-06-20T15:09:58.884Z"
   },
   {
    "duration": 11,
    "start_time": "2024-06-20T15:10:02.944Z"
   },
   {
    "duration": 11,
    "start_time": "2024-06-20T15:10:07.017Z"
   },
   {
    "duration": 10,
    "start_time": "2024-06-20T15:10:18.168Z"
   },
   {
    "duration": 4,
    "start_time": "2024-06-20T15:10:24.785Z"
   },
   {
    "duration": 6,
    "start_time": "2024-06-20T15:10:28.843Z"
   },
   {
    "duration": 6,
    "start_time": "2024-06-20T15:10:31.457Z"
   },
   {
    "duration": 13,
    "start_time": "2024-06-20T15:10:34.417Z"
   },
   {
    "duration": 5,
    "start_time": "2024-06-20T15:10:38.198Z"
   },
   {
    "duration": 25,
    "start_time": "2024-06-20T15:10:41.302Z"
   },
   {
    "duration": 18,
    "start_time": "2024-06-20T15:10:45.171Z"
   },
   {
    "duration": 30,
    "start_time": "2024-06-20T15:10:48.528Z"
   },
   {
    "duration": 73,
    "start_time": "2024-06-20T15:10:52.992Z"
   },
   {
    "duration": 91,
    "start_time": "2024-06-20T15:10:56.198Z"
   },
   {
    "duration": 69,
    "start_time": "2024-06-20T15:10:59.953Z"
   },
   {
    "duration": 11,
    "start_time": "2024-06-20T15:11:03.810Z"
   },
   {
    "duration": 4,
    "start_time": "2024-06-20T15:11:10.714Z"
   },
   {
    "duration": 29,
    "start_time": "2024-06-20T15:11:15.442Z"
   },
   {
    "duration": 10,
    "start_time": "2024-06-20T15:11:19.091Z"
   },
   {
    "duration": 15,
    "start_time": "2024-06-20T15:11:26.909Z"
   },
   {
    "duration": 22,
    "start_time": "2024-06-20T15:11:35.086Z"
   },
   {
    "duration": 8,
    "start_time": "2024-06-20T15:11:45.720Z"
   },
   {
    "duration": 5,
    "start_time": "2024-06-20T15:11:53.178Z"
   },
   {
    "duration": 349,
    "start_time": "2024-06-20T15:13:35.544Z"
   },
   {
    "duration": 21,
    "start_time": "2024-06-20T15:13:44.525Z"
   },
   {
    "duration": 21,
    "start_time": "2024-06-20T15:16:21.391Z"
   },
   {
    "duration": 22,
    "start_time": "2024-06-20T15:17:07.431Z"
   },
   {
    "duration": 23,
    "start_time": "2024-06-20T15:18:10.522Z"
   },
   {
    "duration": 19,
    "start_time": "2024-06-20T15:19:23.290Z"
   },
   {
    "duration": 17,
    "start_time": "2024-06-20T15:19:58.174Z"
   },
   {
    "duration": 20,
    "start_time": "2024-06-20T15:21:07.022Z"
   },
   {
    "duration": 18,
    "start_time": "2024-06-20T15:21:23.318Z"
   }
  ],
  "colab": {
   "collapsed_sections": [
    "E0vqbgi9ay0H",
    "VUC88oWjTJw2"
   ],
   "provenance": []
  },
  "kernelspec": {
   "display_name": "Python 3 (ipykernel)",
   "language": "python",
   "name": "python3"
  },
  "language_info": {
   "codemirror_mode": {
    "name": "ipython",
    "version": 3
   },
   "file_extension": ".py",
   "mimetype": "text/x-python",
   "name": "python",
   "nbconvert_exporter": "python",
   "pygments_lexer": "ipython3",
   "version": "3.9.19"
  },
  "toc": {
   "base_numbering": 1,
   "nav_menu": {},
   "number_sections": true,
   "sideBar": true,
   "skip_h1_title": true,
   "title_cell": "Table of Contents",
   "title_sidebar": "Contents",
   "toc_cell": false,
   "toc_position": {},
   "toc_section_display": true,
   "toc_window_display": false
  }
 },
 "nbformat": 4,
 "nbformat_minor": 1
}
